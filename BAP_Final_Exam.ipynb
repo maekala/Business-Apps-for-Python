{
  "nbformat": 4,
  "nbformat_minor": 0,
  "metadata": {
    "colab": {
      "provenance": []
    },
    "kernelspec": {
      "name": "python3",
      "display_name": "Python 3"
    }
  },
  "cells": [
    {
      "cell_type": "markdown",
      "metadata": {
        "id": "ijS0NTgtv5w6"
      },
      "source": [
        "## Business Python Final Exam Information  \n",
        "Please complete these problems to the best of your abilities. You may use any and all resources at your disposal, but are expected to work individually -- this should be reflected in your code. Significant partial credit will be awarded for attempted solutions that are the product of well-documented effort. Show the full range of your attempts, write comments to explain your logic, and document any research that you do. Learning to program isn't about remembering syntax or knowing how to solve a problem on the first try, it is more about refining your ability to reason through a process, persisting and trying multiple approaches, and using resources effectively to guide you towards a solution. I keep this in mind when reviewing your work. I will be available to clarify questions as needed, but to be fair, will refrain from giving away too much information to any single student. Best of luck and thank-you for your hard work!"
      ]
    },
    {
      "cell_type": "markdown",
      "metadata": {
        "id": "PX4NJZmUwwG9"
      },
      "source": [
        "**Problem 1: String Operations**  \n",
        "Write a program that accepts a string of the form:\n",
        "```\n",
        "'$45.21,$62.15,$565.02,$789.98'\n",
        "```\n",
        "and splits it into a list of floats with no ```$``` symbols.  Given the string above as an input, your program should return,\n",
        "```\n",
        "[45.21, 62.15, 565.02, 789.98]\n",
        "```\n",
        "and have a list data type.  "
      ]
    },
    {
      "cell_type": "code",
      "metadata": {
        "id": "RnAaaZq_wwG_"
      },
      "source": [
        "def convert_data(s):\n",
        "    # YOUR CODE\n",
        "    converted= map(float, string.split(\"$\"))\n",
        "    print(converted)"
      ],
      "execution_count": 1,
      "outputs": []
    },
    {
      "cell_type": "markdown",
      "metadata": {
        "id": "6gxubGC-ZRph"
      },
      "source": [
        "Run the function and check the output"
      ]
    },
    {
      "cell_type": "code",
      "metadata": {
        "id": "HwNt-o-vZYoC",
        "colab": {
          "base_uri": "https://localhost:8080/"
        },
        "outputId": "dc5f3268-e54b-450c-a70c-778ef8f89f83"
      },
      "source": [
        "string='$45.21,$62.15,$565.02,$789.98'\n",
        "convert_data(string)"
      ],
      "execution_count": null,
      "outputs": [
        {
          "output_type": "stream",
          "name": "stdout",
          "text": [
            "<map object at 0x7f3bc02d2510>\n"
          ]
        }
      ]
    },
    {
      "cell_type": "markdown",
      "metadata": {
        "id": "Le1Pqy-tZfFU"
      },
      "source": [
        "Expected Output\n",
        "```\n",
        "[45.21, 62.15, 565.02, 789.98]\n",
        "```"
      ]
    },
    {
      "cell_type": "markdown",
      "metadata": {
        "id": "jQlYS1RvAUTj"
      },
      "source": [
        "**Problem 2:  Data Structures**\n",
        "You work for a manufacturer, and have been asked to calculate the total profit made on the sales of a collection of products. You are given a list of dictionaries each of which contains the product name, cost price per unit (in dollars), sell price per unit (in dollars), and the starting inventory. Write a function called ```profit()``` that returns a new dictionary in which the keys are the product names and the values are the total profit found using the formula ```inventory * (sell_price - cost_price)```.\n",
        "\n",
        "Examples:\n",
        "```\n",
        "products=[\n",
        "{\n",
        "    \"product\":\"Mini Drone\",\n",
        "    \"cost_price\": 2.04,\n",
        "    \"sell_price\": 6.95,\n",
        "    \"inventory\": 1500\n",
        "},\n",
        "{\n",
        "    \"product\":\"3D puzzle\",\n",
        "    \"cost_price\": 1.68,\n",
        "    \"sell_price\": 5.95,\n",
        "    \"inventory\": 6000\n",
        "},\n",
        "{\n",
        "    \"product\":\"Origami Paper\",\n",
        "    \"cost_price\": 2.77,\n",
        "    \"sell_price\": 7.95,\n",
        "    \"inventory\": 8500\n",
        "},\n",
        "{\n",
        "    \"product\":\"Night Vision Goggles\",\n",
        "    \"cost_price\": 3.57,\n",
        "    \"sell_price\": 9.95,\n",
        "    \"inventory\": 3000\n",
        "}\n",
        "]\n",
        "```\n",
        "Expected Output\n",
        "```\n",
        "{'3D puzzle': 25620,\n",
        " 'Mini Drone': 7365,\n",
        " 'Night Vision Goggles': 19140,\n",
        " 'Origami Paper': 44030}\n",
        "```\n"
      ]
    },
    {
      "cell_type": "code",
      "metadata": {
        "id": "poeCZUzkAe76"
      },
      "source": [
        "def profit(dct):\n",
        "    # YOUR CODE\n"
      ],
      "execution_count": null,
      "outputs": []
    },
    {
      "cell_type": "markdown",
      "metadata": {
        "id": "iFcTGgZPcpKe"
      },
      "source": [
        "Run the function and test the output"
      ]
    },
    {
      "cell_type": "code",
      "metadata": {
        "id": "DHjdjx1_ctkF"
      },
      "source": [
        "# Test:\n",
        "products=[\n",
        "{\n",
        "    \"product\":\"Mini Drone\",\n",
        "    \"cost_price\": 2.04,\n",
        "    \"sell_price\": 6.95,\n",
        "    \"inventory\": 1500\n",
        "},\n",
        "{\n",
        "    \"product\":\"3D puzzle\",\n",
        "    \"cost_price\": 1.68,\n",
        "    \"sell_price\": 5.95,\n",
        "    \"inventory\": 6000\n",
        "},\n",
        "{\n",
        "    \"product\":\"Origami Paper\",\n",
        "    \"cost_price\": 2.77,\n",
        "    \"sell_price\": 7.95,\n",
        "    \"inventory\": 8500\n",
        "},\n",
        "{\n",
        "    \"product\":\"Night Vision Goggles\",\n",
        "    \"cost_price\": 3.57,\n",
        "    \"sell_price\": 9.95,\n",
        "    \"inventory\": 3000\n",
        "}\n",
        "]\n",
        "\n",
        "\n",
        "\n",
        "profit(products)"
      ],
      "execution_count": null,
      "outputs": []
    },
    {
      "cell_type": "markdown",
      "metadata": {
        "id": "ePAjb3C7c-7f"
      },
      "source": [
        "Expected Output\n",
        "```\n",
        "{'3D puzzle': 25620,\n",
        " 'Mini Drone': 7365,\n",
        " 'Night Vision Goggles': 19140,\n",
        " 'Origami Paper': 44030}\n",
        " ```"
      ]
    },
    {
      "cell_type": "markdown",
      "metadata": {
        "id": "-OcoOCJmv5cx"
      },
      "source": [
        "**Problem 3.  Numpy Arrays and Operations**    \n",
        "The goal of this exercise is to analyze top baseball player salaries in the National and American leagues using numpy. The data has the form shown below. See source: -https://www.baseball-reference.com/leaders/Salary_leagues.shtml.  The values in the columns, are ```'year', 'NL top salary', 'AL top salary'```\n",
        "\n",
        "```\n",
        "data=[[2019, 42143000, 36833333],\n",
        "      [2018, 35571429, 34083000],\n",
        "      [2017, 35571429, 30000000],\n",
        "      [2016, 34571429,30000000,],\n",
        "      [2015, 32571429, 28000000]]\n",
        "```\n",
        "a. Create a Numpy Array using the data as the input.\n",
        "\n",
        "b. Write a program to determine (and output) the increase in both NL top salaries and in AL top salaries in the last 5 years.   \n",
        "\n",
        "c. Write a program to determine whether the top salary was greater in the AL or the NL. Output a statement communicating the direction of the difference and also the value of the difference between the NL and the AL top salary in each of the last 5 years."
      ]
    },
    {
      "cell_type": "code",
      "metadata": {
        "id": "spY4vq-2vkQb"
      },
      "source": [
        "def baseball(data):\n",
        "    import numpy as np\n",
        "    # a create the numpy array\n",
        "    # YOUR CODE\n",
        "\n",
        "    # b determine the change in top salary over the last 5 years\n",
        "    # YOUR CODE\n",
        "\n",
        "    # c determine the year to year difference in salary between AL and NL\n",
        "    # YOUR CODE\n"
      ],
      "execution_count": null,
      "outputs": []
    },
    {
      "cell_type": "markdown",
      "metadata": {
        "id": "m_1flmYFdOHL"
      },
      "source": [
        "Run the function and check the output\n"
      ]
    },
    {
      "cell_type": "code",
      "metadata": {
        "id": "JgYsw-vldQsK"
      },
      "source": [
        "salaries=[\n",
        "    [2021, 40000000, 37116667],\n",
        "    [2020, 35920616, 37666666],\n",
        "    [2019, 38333333, 36833333],\n",
        "    [2018, 35571429, 34083000],\n",
        "    [2017, 35571429,30000000]]\n",
        "\n",
        "baseball(salaries)"
      ],
      "execution_count": null,
      "outputs": []
    },
    {
      "cell_type": "markdown",
      "metadata": {
        "id": "Sa1iVx2jdTya"
      },
      "source": [
        "Expected Output\n",
        "```\n",
        "[[    2021 40000000 37116667]\n",
        " [    2020 35920616 37666666]\n",
        " [    2019 38333333 36833333]\n",
        " [    2018 35571429 34083000]\n",
        " [    2017 35571429 30000000]]\n",
        "\n",
        "\n",
        "NL salaries increased by 4428571 over the last five years\n",
        "AL salaries increased by 7666666 over the last five years\n",
        "\n",
        "\n",
        "NL > AL by 2883333\n",
        "AL > NL by 1746050\n",
        "NL > AL by 1500000\n",
        "NL > AL by 1488429\n",
        "NL > AL by 5571429\n",
        "```"
      ]
    },
    {
      "cell_type": "markdown",
      "metadata": {
        "id": "oSTvDwccwdFI"
      },
      "source": [
        "## Problem 4. Pandas Data_Reader with World Bank\n",
        "This function should extract data from the World Bank api and perform some analysis. The function parameters are the indicator, a list of countries, a starting year and an ending year. Fill in the code to complete the program.  \n",
        "  \n",
        "[World Bank Remote Data Access documentation](https://pandas-datareader.readthedocs.io/en/latest/readers/world-bank.html)    \n",
        "[List of Country Codes](https://en.wikipedia.org/wiki/List_of_ISO_3166_country_codes)\n",
        "\n",
        "a. Use the download function to acquire the data from the WB servers by indicator and country.\n",
        "\n",
        "b. Create a pivot table summarizing the GDP per capita.\n",
        "\n",
        "c. Create the time series plot of the pivot table.   "
      ]
    },
    {
      "cell_type": "code",
      "metadata": {
        "id": "eqsHe9okwfsV"
      },
      "source": [
        "# # installing dependencies\n",
        "# # this only has to be run once per session, you can comment it out thereafter\n",
        "! pip install pandas-datareader # comment out after running once\n"
      ],
      "execution_count": null,
      "outputs": []
    },
    {
      "cell_type": "code",
      "metadata": {
        "id": "GkhBh-quwjM6"
      },
      "source": [
        "def get_world_data(ct_list, ind, start_date, end_date):\n",
        "    import pandas as pd\n",
        "    import matplotlib.pyplot as plt\n",
        "    from pandas_datareader import wb\n",
        "\n",
        "    # run the code to examine the indicator names and symbols\n",
        "    mathces = wb.search('gdp.*capita.*const')\n",
        "    # print the results to see the indicator names and symbols\n",
        "    print(mathces)\n",
        "\n",
        "    # a. use the download function to acquire the data from the WB servers by indicator and country\n",
        "    # YOUR CODE\n",
        "\n",
        "    #b. Create a pivot table summarizing the indicator, ind, by country and by year with years as the rows (index) and columns as the countries\n",
        "    # YOUR CODE\n",
        "\n",
        "    # c. Create the time series plot of the pivot table\n",
        "    # YOUR CODE"
      ],
      "execution_count": null,
      "outputs": []
    },
    {
      "cell_type": "markdown",
      "metadata": {
        "id": "CeLuRh_kilW1"
      },
      "source": [
        "Run the function and check the output"
      ]
    },
    {
      "cell_type": "code",
      "metadata": {
        "id": "tUscWwKpmIu9"
      },
      "source": [
        "# Run the function\n",
        "COUNTRIES=['US', 'CA', 'FR','DE','IT','GB','JP']\n",
        "INDICATOR='NY.GDP.PCAP.KD'\n",
        "START=2000\n",
        "END=2020\n",
        "\n",
        "get_world_data(COUNTRIES, INDICATOR, START, END)"
      ],
      "execution_count": null,
      "outputs": []
    },
    {
      "cell_type": "markdown",
      "metadata": {
        "id": "hingjWjvis44"
      },
      "source": [
        "Expected Output\n",
        "```\n",
        "                        id  ...            topics\n",
        "716      6.0.GDPpc_constant  ...  Economy & Growth\n",
        "10384        NY.GDP.PCAP.KD  ...  Economy & Growth\n",
        "10386        NY.GDP.PCAP.KN  ...  Economy & Growth\n",
        "10388     NY.GDP.PCAP.PP.KD  ...  Economy & Growth\n",
        "10389  NY.GDP.PCAP.PP.KD.87  ...                  \n",
        "\n",
        "[5 rows x 7 columns]\n",
        "              NY.GDP.PCAP.KD\n",
        "country year                \n",
        "Canada  2020        42108.17\n",
        "        2019        44958.09\n",
        "        2018        44765.50\n",
        "        2017        44325.42\n",
        "        2016        43536.91\n",
        "country    Canada    France   Germany  ...     Japan  United Kingdom  United States\n",
        "year                                   ...                                         \n",
        "2000     34121.61  33583.86  34476.21  ...  31430.63        38450.22       48689.03\n",
        "2001     34227.34  34001.70  34996.99  ...  31476.05        39348.27       48690.81\n",
        "2002     35015.79  34138.63  34869.03  ...  31416.12        40035.72       49081.36\n",
        "2003     36024.10  34176.56  34605.74  ...  31830.22        41173.49       50053.62\n",
        "2004     37086.45  34885.84  35019.99  ...  32515.12        41875.90       51476.49\n",
        "\n",
        "[5 rows x 7 columns]\n",
        "```\n",
        "\n",
        "![image](https://drive.google.com/uc?id=1OkdYl9IHbwJueo5i7obg2HY0ntAFfIEG)"
      ]
    },
    {
      "cell_type": "markdown",
      "metadata": {
        "id": "oeKz0GVa4CHu"
      },
      "source": [
        "**Problem 5: Data Summary and Visualization**\n",
        "In this problem, we perform some of the preliminary tasks of a statistical modeling exercise.  We will use a data set that contains measurements for basketball player salaries (response variable) for a collection of highly paid players along with explanatory variables potentially related to salary. The function below will perform some of the steps of a linear regression analysis.\n",
        "\n",
        "\n",
        "\n"
      ]
    },
    {
      "cell_type": "markdown",
      "metadata": {
        "id": "YT0mQSyFQOLp"
      },
      "source": [
        "#### a. Build the dataframe\n",
        "Connect to the data url and create the pandas dataframe using the code provided below and perform some preprocessing tasks.\n",
        "\n",
        "#### b. Statistical Summary\n",
        "Use a pandas method to generate a statistical summary of all the variables in the dataframe.\n",
        "\n",
        "#### c. Pairwise scatterplots and histogram\n",
        "Use the pairplot method to generate the graphic to visualize the individual distributions and the pairwise scatterplots.\n",
        "\n",
        "#### d. Correlation Matrix\n",
        "Calculate the correlations and create a heatmap to visualize them.\n",
        "\n",
        "#### e. Linear Regression\n",
        "Fit a linear model to the data using all of the variables.\n",
        "```\n",
        "'salary ~ rating+height+age+time_since_draft+college_ind'\n",
        "```\n"
      ]
    },
    {
      "cell_type": "code",
      "metadata": {
        "id": "Dozcw7CHxxPV"
      },
      "source": [
        "def basketball_analysis(url):\n",
        "    import pandas as pd\n",
        "    import requests\n",
        "    from io import StringIO\n",
        "    # libraries for data visualization\n",
        "    import matplotlib.pyplot as plt\n",
        "    import seaborn as sns\n",
        "    # libraries for statistical modeling\n",
        "    import pandas.util.testing as tm\n",
        "    import statsmodels.formula.api as smf\n",
        "\n",
        "    # a. Build the dataframe\n",
        "    file_id = url.split('/')[-2]\n",
        "    dwn_url='https://drive.google.com/uc?export=download&id=' + file_id\n",
        "    url = requests.get(dwn_url).text\n",
        "    csv_raw = StringIO(url)\n",
        "    basketball = pd.read_csv(csv_raw)\n",
        "\n",
        "    # Examine the first 6 lines of the data frame\n",
        "    header=basketball.head()\n",
        "    print(header, '\\n')\n",
        "\n",
        "    # List and print the variable names\n",
        "    # YOUR CODE\n",
        "\n",
        "    # b. Generate and print a statistical summary\n",
        "    # YOUR CODE\n",
        "\n",
        "    # c. Generate a pairwise scatterplot of the quantitative variables.\n",
        "    # First, create a new data frame using the quantitative variables: 'rating','height','age','time_since_draft','salary'\n",
        "    # YOUR CODE\n",
        "\n",
        "    # d. Calculate the correlations and create a heatmap (use plt.figure() prior to running the code to create the heatmap)\n",
        "    # YOUR CODE\n",
        "    # plt.figure() # uncomment prior to running heatmap\n",
        "\n",
        "\n",
        "\n",
        "    # e. Fit a linear model\n",
        "    # use smf.ols function to generate the linear model (ordinary least squares regression)\n",
        "    # YOUR CODE\n",
        "\n",
        "    # inspect the results with the summary() method\n",
        "    # YOUR CODE\n",
        "\n",
        "\n"
      ],
      "execution_count": null,
      "outputs": []
    },
    {
      "cell_type": "code",
      "metadata": {
        "id": "1iy5HTTLLuO4"
      },
      "source": [
        "# Run the function (no function argument)\n",
        "orig_url=\"https://drive.google.com/file/d/17oAYo3H5GfQR3LEUv5cXuuH1yK4GX80B/view?usp=sharing\"\n",
        "basketball_analysis(orig_url)"
      ],
      "execution_count": null,
      "outputs": []
    },
    {
      "cell_type": "markdown",
      "metadata": {
        "id": "crS3N2o1mHPk"
      },
      "source": [
        "Expected Output\n",
        "```\n",
        "   Unnamed: 0              full_name  ... rating      salary\n",
        "0           0           LeBron James  ...     97  37436858.0\n",
        "1           1          Kawhi Leonard  ...     97  32742000.0\n",
        "2           2  Giannis Antetokounmpo  ...     96  25842697.0\n",
        "3           3           Kevin Durant  ...     96  37199000.0\n",
        "4           4           James Harden  ...     96  38199000.0\n",
        "\n",
        "[5 rows x 10 columns]\n",
        "\n",
        "Index(['Unnamed: 0', 'full_name', 'team', 'position', 'height', 'college_ind',\n",
        "       'time_since_draft', 'age', 'rating', 'salary'],\n",
        "      dtype='object')\n",
        "\n",
        "       Unnamed: 0      height  ...      rating        salary\n",
        "count  429.000000  429.000000  ...  429.000000  4.290000e+02\n",
        "mean   214.000000    1.995641  ...   76.372960  8.530080e+06\n",
        "std    123.985886    0.083514  ...    5.657748  9.218059e+06\n",
        "min      0.000000    1.750000  ...   67.000000  5.000000e+04\n",
        "25%    107.000000    1.930000  ...   72.000000  2.000000e+06\n",
        "50%    214.000000    2.010000  ...   75.000000  4.380120e+06\n",
        "75%    321.000000    2.060000  ...   79.000000  1.220000e+07\n",
        "max    428.000000    2.240000  ...   97.000000  4.023176e+07\n",
        "\n",
        "[8 rows x 7 columns]\n",
        "\n",
        "                            OLS Regression Results                            \n",
        "==============================================================================\n",
        "Dep. Variable:                 salary   R-squared:                       0.655\n",
        "Model:                            OLS   Adj. R-squared:                  0.651\n",
        "Method:                 Least Squares   F-statistic:                     160.8\n",
        "Date:                Sun, 21 Nov 2021   Prob (F-statistic):           1.95e-95\n",
        "Time:                        21:24:00   Log-Likelihood:                -7259.6\n",
        "No. Observations:                 429   AIC:                         1.453e+04\n",
        "Df Residuals:                     423   BIC:                         1.456e+04\n",
        "Df Model:                           5                                         \n",
        "Covariance Type:            nonrobust                                         \n",
        "====================================================================================\n",
        "                       coef    std err          t      P>|t|      [0.025      0.975]\n",
        "------------------------------------------------------------------------------------\n",
        "Intercept        -8.067e+07   8.66e+06     -9.313      0.000   -9.77e+07   -6.36e+07\n",
        "rating            1.123e+06   5.25e+04     21.377      0.000    1.02e+06    1.23e+06\n",
        "height            -2.03e+06   3.27e+06     -0.620      0.536   -8.47e+06    4.41e+06\n",
        "age               2.031e+05   1.71e+05      1.190      0.235   -1.32e+05    5.39e+05\n",
        "time_since_draft  3.807e+05   1.89e+05      2.019      0.044    1.01e+04    7.51e+05\n",
        "college_ind       4.884e+05   7.83e+05      0.624      0.533   -1.05e+06    2.03e+06\n",
        "==============================================================================\n",
        "Omnibus:                       13.983   Durbin-Watson:                   1.804\n",
        "Prob(Omnibus):                  0.001   Jarque-Bera (JB):               24.275\n",
        "Skew:                           0.190   Prob(JB):                     5.36e-06\n",
        "Kurtosis:                       4.102   Cond. No.                     2.78e+03\n",
        "==============================================================================\n",
        "\n",
        "Warnings:\n",
        "[1] Standard Errors assume that the covariance matrix of the errors is correctly specified.\n",
        "[2] The condition number is large, 2.78e+03. This might indicate that there are\n",
        "strong multicollinearity or other numerical problems.\n",
        "```\n",
        "![image](https://drive.google.com/uc?id=1Pd8abqENDl6NdVRTed77PFlTE9qjvoZH)\n",
        "\n",
        "![image](https://drive.google.com/uc?id=1hmqGdoBtLgUHn84xsx21c2puZe2z_yT1)"
      ]
    }
  ]
}