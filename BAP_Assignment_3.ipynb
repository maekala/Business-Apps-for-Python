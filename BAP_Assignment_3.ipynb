{
  "cells": [
    {
      "cell_type": "markdown",
      "metadata": {
        "id": "_XisGIsktsuY"
      },
      "source": [
        "## Business Applications for Python Assignment III\n",
        "### Collections - Lists, Dictionaries, Tuples, and Sets"
      ]
    },
    {
      "cell_type": "markdown",
      "metadata": {
        "id": "NX4RyUJwtsuc"
      },
      "source": [
        "#### Problem 1\n",
        "This problem is about list operations.  Look back at our notes and feel free to research how to perform the following operations.\n",
        "\n",
        "a. Create an empty list called 'days'\n",
        "\n",
        "b. Add string element \"Monday\" to list 'days'.\n",
        "\n",
        "c. Add string elements \"Wednesday\", \"Thursday\", \"Thursday\", \"Friday\", \"Saturday\", \"Sunday\", \"Monday\" into list 'days' using one line of code.\n",
        "\n",
        "d. Insert the element \"Tuesday\" at the appropriate location in the list so that the days of the week are in order.\n",
        "\n",
        "e. Remove the last item in the list.\n",
        "\n",
        "f. Remove the extra \"Thursday\" from the list. Print the result."
      ]
    },
    {
      "cell_type": "markdown",
      "metadata": {
        "id": "e-Rbo0WRtLtq"
      },
      "source": [
        "The expected output for problem 1 is\n",
        "```\n",
        "[]\n",
        "['Monday']\n",
        "['Monday', 'Wednesday', 'Thursday', 'Thursday', 'Friday', 'Saturday', 'Sunday', 'Monday']\n",
        "['Monday', 'Tuesday', 'Wednesday', 'Thursday', 'Thursday', 'Friday', 'Saturday', 'Sunday', 'Monday']\n",
        "['Monday', 'Tuesday', 'Wednesday', 'Thursday', 'Thursday', 'Friday', 'Saturday', 'Sunday']\n",
        "['Monday', 'Tuesday', 'Wednesday', 'Thursday', 'Friday', 'Saturday', 'Sunday']\n",
        "```"
      ]
    },
    {
      "cell_type": "code",
      "execution_count": null,
      "metadata": {
        "colab": {
          "base_uri": "https://localhost:8080/"
        },
        "id": "x0LD5ERFtsue",
        "outputId": "ad8dedd2-54e2-4d33-e441-1384c4ccaf52"
      },
      "outputs": [
        {
          "output_type": "stream",
          "name": "stdout",
          "text": [
            "[]\n",
            "['Monday']\n",
            "['Monday', 'Wednesday', 'Thursday', 'Thursday', 'Friday', 'Saturday', 'Sunday', 'Monday']\n",
            "['Monday', 'Tuesday', 'Wednesday', 'Thursday', 'Thursday', 'Friday', 'Saturday', 'Sunday', 'Monday']\n",
            "['Monday', 'Tuesday', 'Wednesday', 'Thursday', 'Thursday', 'Friday', 'Saturday', 'Sunday']\n",
            "['Monday', 'Tuesday', 'Wednesday', 'Thursday', 'Friday', 'Saturday', 'Sunday']\n"
          ]
        }
      ],
      "source": [
        "# Print the list in each part of the problem\n",
        "\n",
        "def days():\n",
        "    # a. Create an empty. Print the result.\n",
        "    l=[]\n",
        "    print(l)\n",
        "\n",
        "    # b. Add string element \"Monday\" to list 'days'.\n",
        "    l.append(\"Monday\")\n",
        "    print(l)\n",
        "    # c. Add string elements \"Wednesday\", \"Thursday\", \"Thursday\", \"Friday\", \"Saturday\", \"Sunday\", \"Monday\" into list 'days' using one line of code. Print the result.\n",
        "    l.extend([\"Wednesday\", \"Thursday\", \"Thursday\", \"Friday\", \"Saturday\", \"Sunday\", \"Monday\"])\n",
        "    print(l)\n",
        "    # d. Insert the element \"Tuesday\" at the appropriate location in the list so that the days of the week are in order. Print the result.\n",
        "    l.insert(1, \"Tuesday\")\n",
        "    print(l)\n",
        "    # e. Remove the last item in the list. Print the result.\n",
        "    l.pop(-1)\n",
        "    print(l)\n",
        "\n",
        "    # f. Remove the extra \"Thursday\" from the list. Print the result.\n",
        "    l.remove(\"Thursday\")\n",
        "    print(l)\n",
        "\n",
        "\n",
        "# Run the function\n",
        "days()\n"
      ]
    },
    {
      "cell_type": "markdown",
      "metadata": {
        "id": "CbA_Df-qtsul"
      },
      "source": [
        "#### Problem 2\n",
        "This problem is designed to expand our understanding of dictionaries (called, 'objects', in other programming languages). Please demonstrate the following properties of and methods for dictionaries.\n",
        "\n",
        "a. Show how to access the value for a specified key, use June for an example.\n",
        "\n",
        "b. Print all of the keys for the dictionary shown below.\n",
        "\n",
        "c. Print all of the values for the dictionary shown below.\n",
        "\n",
        "d. Demonstrate a method to find how many items are in the dictionary.\n",
        "\n",
        "e. Demonstrate a method to add a new key value pair, \"October\":31, to the dictionary."
      ]
    },
    {
      "cell_type": "markdown",
      "metadata": {
        "id": "opGgXjJ8uYz1"
      },
      "source": [
        "Expected output for problem 2\n",
        "```\n",
        "30\n",
        "['January', 'February', 'March', 'April', 'May', 'June', 'July', 'August', 'September', 'November', 'December']\n",
        "[31, 28, 31, 30, 31, 30, 31, 31, 30, 30, 31]\n",
        "11\n",
        "{'January': 31, 'February': 28, 'March': 31, 'April': 30, 'May': 31, 'June': 30, 'July': 31, 'August': 31, 'September': 30, 'November': 30, 'December': 31, 'October': 31}\n",
        "```"
      ]
    },
    {
      "cell_type": "code",
      "execution_count": null,
      "metadata": {
        "colab": {
          "base_uri": "https://localhost:8080/"
        },
        "id": "1qLVl7Jytsun",
        "outputId": "45a6ee48-754a-4860-e5f8-ecddce412244"
      },
      "outputs": [
        {
          "name": "stdout",
          "output_type": "stream",
          "text": [
            "30\n",
            "['January', 'February', 'March', 'April', 'May', 'June', 'July', 'August', 'September', 'November', 'December']\n",
            "[31, 28, 31, 30, 31, 30, 31, 31, 30, 30, 31]\n",
            "11\n",
            "{'January': 31, 'February': 28, 'March': 31, 'April': 30, 'May': 31, 'June': 30, 'July': 31, 'August': 31, 'September': 30, 'November': 30, 'December': 31, 'October': 31}\n"
          ]
        }
      ],
      "source": [
        "months = {\n",
        "    'January':31,\n",
        "    'February':28,\n",
        "    'March':31,\n",
        "    'April':30,\n",
        "    'May':31,\n",
        "    'June':30,\n",
        "    'July':31,\n",
        "    'August':31,\n",
        "    'September':30,\n",
        "    'November':30,\n",
        "    'December':31\n",
        "}\n",
        "\n",
        "def months_dict(data):\n",
        "\n",
        "    # a. Show how to access the value for a specified key, use June for an example. Print the result.\n",
        "    june_value = data[\"June\"]\n",
        "    print(june_value)\n",
        "    # b. Print all of the keys for the dictionary without using the .keys() method. Store the keys in a list. Print the result.\n",
        "    keys=[]\n",
        "    for k in data:\n",
        "        if type(k)== str:\n",
        "            keys.append(k)\n",
        "    print(keys)\n",
        "    # c. Print all of the values for the dictionary without using the .values() method. Store the values in a list. Print the result.\n",
        "    values=[]\n",
        "    for v in data.items():\n",
        "        values.append(v[1])\n",
        "    print(values)\n",
        "\n",
        "    # d. Find how many items (key:value pairs) are in the dictionary. Print the result.\n",
        "    number_of_items = len(data.items())\n",
        "    print(number_of_items)\n",
        "\n",
        "    # e. Add a new key value pair, \"October\":31, to the dictionary. Print the result.\n",
        "    months.update({\"October\": 31})\n",
        "    print(months)\n",
        "\n",
        "months_dict(months)"
      ]
    },
    {
      "cell_type": "markdown",
      "metadata": {
        "id": "Br9aSjhUtsur"
      },
      "source": [
        "#### Problem 3\n",
        "This problems is about sets and their operations\n",
        "\n",
        "a.  Create an empty set\n",
        "\n",
        "b.  Create a set that contains values 1,2,3,4,5\n",
        "\n",
        "c.  Add the value 6 to the set\n",
        "\n",
        "d.  Add multiple values 7,8,9 to the set\n",
        "\n",
        "e.  Remove the 6 from the set by referencing the value itself.\n",
        "\n",
        "f. Use a comment to explain why it is not possible to discard the 3 from the set by referencing the index.\n"
      ]
    },
    {
      "cell_type": "markdown",
      "metadata": {
        "id": "_S3Dx1-5vP2O"
      },
      "source": [
        "Expected output for problem 3\n",
        "```\n",
        "set() <class 'set'>\n",
        "{1, 2, 3, 4, 5}\n",
        "{1, 2, 3, 4, 5, 6}\n",
        "{1, 2, 3, 4, 5, 6, 7, 8, 9}\n",
        "{1, 2, 3, 4, 5, 7, 8, 9}\n",
        "```"
      ]
    },
    {
      "cell_type": "code",
      "execution_count": null,
      "metadata": {
        "colab": {
          "base_uri": "https://localhost:8080/"
        },
        "id": "P89zOgH5tsut",
        "outputId": "204c9789-d662-4528-e084-978362f5c229"
      },
      "outputs": [
        {
          "name": "stdout",
          "output_type": "stream",
          "text": [
            "set() <class 'set'>\n",
            "{1, 2, 3, 4, 5}\n",
            "{1, 2, 3, 4, 5, 6}\n",
            "{1, 2, 3, 4, 5, 6, 7, 8, 9}\n",
            "{1, 2, 3, 4, 5, 7, 8, 9}\n"
          ]
        }
      ],
      "source": [
        "# a. Create an empty set, print the set and its data type\n",
        "\n",
        "def set_operations():\n",
        "    # a. Create an empty set, print the set and its data type\n",
        "    s = set()\n",
        "    print(s, type(s))\n",
        "\n",
        "    # b. Create a set that contains values 1,2,3,4,5. Print the result.\n",
        "    s = {1,2,3,4,5}\n",
        "    print(s)\n",
        "\n",
        "    # c. Add the value 6 to the set. Print the result.\n",
        "    s.add(6)\n",
        "    print(s)\n",
        "\n",
        "    # d. Add multiple values 7,8,9 using 1 command to the set. Print the result.\n",
        "    s.update([7],[8],[9])\n",
        "    print(s)\n",
        "\n",
        "    # e. Remove the 6 from the set by referencing the value itself. Print the result.\n",
        "    s.discard(6)\n",
        "    print(s)\n",
        "\n",
        "    # Run the function\n",
        "set_operations()\n",
        "\n",
        "    # f. Use a comment to explain why it is not possible to discard the 3 from the set by referencing the index.\n",
        "    # ANSWER: You cannot use indices in sets because sets do not have any specific order to them. Repeated elements are not included in sets, so indexing a element is almost pointless.\n",
        "\n"
      ]
    },
    {
      "cell_type": "markdown",
      "metadata": {
        "id": "34lHUSaytsu6"
      },
      "source": [
        "#### Problem 4\n",
        "Given the following collection of stock symbols, please perform the following:\n",
        "\n",
        "a. Identify the symbol 'DPBE' using indexing. Expected output is\n",
        "```\n",
        "DPBE\n",
        "```\n",
        "\n",
        "b. Write a program to destructure the array so that the final result is:\n",
        "\n",
        "```\n",
        "['TEUCF', 'BBLKF', 'NMM', 'SAIA', 'SALT', 'SB', 'TK', 'NM', 'ERA', 'TCNAF', 'URAL', 'BRSWQ', 'DPBE', 'TOPS', 'GNKWF', 'AIRTW', 'SHIPW']\n",
        "```\n",
        "c.  Write a program to change all of the symbols to lowercase using the .lowere() method.\n",
        "```\n",
        "['teucf', 'bblkf', 'nmm', 'saia', 'salt', 'sb', 'tk', 'nm', 'era', 'tcnaf', 'ural', 'brswq', 'dpbe', 'tops', 'gnkwf', 'airtw', 'shipw']\n",
        "```\n",
        "Research a python function that can do this for you and cite your source.\n",
        "\n"
      ]
    },
    {
      "cell_type": "code",
      "execution_count": null,
      "metadata": {
        "colab": {
          "base_uri": "https://localhost:8080/"
        },
        "id": "7LeWaCjItsu7",
        "outputId": "b76a69ff-8a04-4b1e-afe0-eeb6051278e7"
      },
      "outputs": [
        {
          "output_type": "stream",
          "name": "stdout",
          "text": [
            "DPBE\n",
            "['TEUCF', 'BBLKF', 'NMM', 'SAIA', 'SALT', 'SB', 'TK', 'NM', 'ERA', 'TCNAF', 'URAL', 'BRSWQ', 'DPBE', 'TOPS', 'GNKWF', 'AIRTW', 'SHIPW']\n",
            "['teucf', 'bblkf', 'nmm', 'saia', 'salt', 'sb', 'tk', 'nm', 'era', 'tcnaf', 'ural', 'brswq', 'dpbe', 'tops', 'gnkwf', 'airtw', 'shipw']\n"
          ]
        }
      ],
      "source": [
        "stocks=[\n",
        "        ['TEUCF', 'BBLKF', 'NMM', 'SAIA','SALT','SB','TK','NM','ERA'],\n",
        "        ['TCNAF','URAL','BRSWQ','DPBE','TOPS','GNKWF','AIRTW','SHIPW'],\n",
        "      ]\n",
        "\n",
        "def stock_calculations(lst):\n",
        "    # a. Identify the symbol 'DPBE' using indexing. Print the result.\n",
        "    print(lst[1][3])\n",
        "\n",
        "    # b. program to destructure the array. Print the result.\n",
        "    new = []\n",
        "    for i in lst:\n",
        "            new.extend(i)\n",
        "    print(new)\n",
        "\n",
        "\n",
        "    # c. Change all of the symbols to lowercase using the .lower() method. Print the result.\n",
        "    low = []\n",
        "    for i in new:\n",
        "        low.append(i.lower())\n",
        "    print(low)\n",
        "\n",
        "\n",
        "stock_calculations(stocks)"
      ]
    },
    {
      "cell_type": "markdown",
      "metadata": {
        "id": "4P31drmQtsvA"
      },
      "source": [
        "#### Problem 5\n",
        "This data set shows a collection of high performing and low performing stocks.  Each stock symbol is associated with a percent change.  \n",
        "```\n",
        "stocks_d={\n",
        "    'TEUCF':6352,\n",
        "    'BBLKF':125,\n",
        "    'NMM':57,\n",
        "    .\n",
        "    .\n",
        "    .\n",
        "```\n",
        "\n",
        "Write a function to calculate the average increase and the average decrease in stock values. **Return** the result as a list. The expected output is\n",
        "```\n",
        "[757, -66]\n",
        "```"
      ]
    },
    {
      "cell_type": "code",
      "execution_count": null,
      "metadata": {
        "colab": {
          "base_uri": "https://localhost:8080/"
        },
        "id": "cNTGex_3tsvC",
        "outputId": "2990a846-2c09-4d8b-e5e2-48547a01e35b"
      },
      "outputs": [
        {
          "output_type": "execute_result",
          "data": {
            "text/plain": [
              "([6352, 125, 57, 53, 48, 46, 45, 44, 43],\n",
              " [-83, -83, -80, -70, -59, -53, -51, -46])"
            ]
          },
          "metadata": {},
          "execution_count": 307
        }
      ],
      "source": [
        "s_d={\n",
        "    'TEUCF':6352,\n",
        "    'BBLKF':125,\n",
        "    'NMM':57,\n",
        "    'SAIA':53,\n",
        "    'SALT':48,\n",
        "    'SB':46,\n",
        "    'TK':45,\n",
        "    'NM':44,\n",
        "    'ERA':43,\n",
        "    'TCNAF':-83,\n",
        "    'URAL':-83,\n",
        "    'BRSWQ':-80,\n",
        "    'DPBE':-70,\n",
        "    'TOPS':-59,\n",
        "    'GNKWF':-53,\n",
        "    'AIRTW':-51,\n",
        "    'SHIPW':-46\n",
        "         }\n",
        "\n",
        "def avg_stock(data):\n",
        "    from numpy import mean\n",
        "    # your code\n",
        "    increase=[]\n",
        "    decrease=[]\n",
        "    for i in s_d.values():\n",
        "        if i>0:\n",
        "            increase.append(i)\n",
        "        if i<0:\n",
        "            decrease.append(i)\n",
        "    return increase, decrease\n",
        "\n",
        "    #not sure how to work the mean function in here. I've seperated the results into two lists, one for the positive percent changes and one for the negatives. I need to find the average of each list then\n",
        "\n",
        "avg_stock(s_d)"
      ]
    },
    {
      "cell_type": "markdown",
      "metadata": {
        "id": "8NRSGVrZtsvL"
      },
      "source": [
        "#### Problem 6\n",
        "Given the following sets,\n",
        "```\n",
        "a={1,2,3,4,5}\n",
        "b={4,5,6,7,8}\n",
        "```\n",
        "use set methods to perform the following operations\n",
        "a. Output the elements in a and b without repetitions. Expected output is    \n",
        "```{1, 2, 3, 4, 5, 6, 7, 8}```\n",
        "\n",
        "b. Output the values that are common to both sets. Expected output is    \n",
        "```{4, 5}```\n",
        "\n",
        "c.  Output the values in set **a** that do not appear in set **b**. Expected output is    \n",
        "```{1, 2, 3}```\n",
        "\n",
        "d.  Output the values in both sets without the common elements 4, 5. Expected output is    \n",
        "```{1, 2, 3, 6, 7, 8}```."
      ]
    },
    {
      "cell_type": "code",
      "execution_count": null,
      "metadata": {
        "colab": {
          "base_uri": "https://localhost:8080/"
        },
        "id": "wON6NrWgtsvM",
        "outputId": "2a7ac231-f291-46ea-c7b8-423fe13a1c77"
      },
      "outputs": [
        {
          "output_type": "stream",
          "name": "stdout",
          "text": [
            "{1, 2, 3, 4, 5, 6, 7, 8}\n",
            "{4, 5}\n",
            "{1, 2, 3}\n",
            "{1, 2, 3, 6, 7, 8}\n"
          ]
        }
      ],
      "source": [
        "a={1,2,3,4,5}\n",
        "b={4,5,6,7,8}\n",
        "\n",
        "def partitioning_sets(s1, s2):\n",
        "\n",
        "    # a. Output the elements in a and b without repetitions. Print the result.\n",
        "    c = a.union(b)\n",
        "    print(c)\n",
        "    #union\n",
        "\n",
        "    # b. Output the values that are common to both sets. Print the result.\n",
        "    c = set(a) & set(b)\n",
        "    print(c)\n",
        "    # alternatively, c = a.intersection(b)...print(c)\n",
        "\n",
        "\n",
        "    # c. Output the values in set a that do not appear in set b. Print the result.\n",
        "    c = a.intersection(b)\n",
        "    o = a - c\n",
        "    print(o)\n",
        "    #*facepalms because i'm a statistics major and couldn't just visualize this in venn diagram form.*\n",
        "\n",
        "    # d. Output the values in both sets without the common elements 4, 5. Print the result.\n",
        "    c = a.intersection(b)\n",
        "    r = b - c\n",
        "    o = a - c\n",
        "    d = (set.union(o,r))\n",
        "    print(d)\n",
        "\n",
        "\n",
        "\n",
        "\n",
        "partitioning_sets(a, b)"
      ]
    },
    {
      "cell_type": "markdown",
      "metadata": {
        "id": "M0I9lJWYtsvG"
      },
      "source": [
        "#### Problem 7\n",
        "Let's say we have several observed values for the percent change for each of the stocks in the collection below.  \n",
        "\n",
        "a.  Write a program that replaces the lists of values for each stock with the maximum value (```'TEUCF':[6352,6171,6053]``` would become ```'TEUCF': 6352```) for each stock and another program that does the same thing but for the minimum value. (use the .copy() method to make a copy of the dictionary)\n",
        "\n",
        "Expected result for maximum values:\n",
        "```\n",
        "{'TEUCF': 6352, 'BBLKF': 125, 'NMM': 57, 'SAIA': 53, 'SALT': 49, 'SB': 46, 'TK': 45, 'NM': 44, 'ERA': 43, 'TCNAF': -81, 'URAL': -81, 'BRSWQ': -79, 'DPBE': 68, 'TOPS': -58, 'GNKWF': -52, 'AIRTW': -49, 'SHIPW': -40}\n",
        "```\n",
        "Expected result for minimum values:\n",
        "```\n",
        "{'TEUCF': 6053, 'BBLKF': 109, 'NMM': 50, 'SAIA': 50, 'SALT': 40, 'SB': 39, 'TK': 43, 'NM': 43, 'ERA': 42, 'TCNAF': -83, 'URAL': -83, 'BRSWQ': -81, 'DPBE': -70, 'TOPS': -59, 'GNKWF': -53, 'AIRTW': -51, 'SHIPW': -47}\n",
        "```\n",
        "\n",
        "b.  We would like to check which of these stocks, based on the three values, seems to be the most variable using the following formula: ```pd=((max-min)/min)*100```\n",
        "\n",
        "If any of the stocks have a pd value greater then 15, record the name of the stock in a list.  For example, for ```'SALT':[40,49,48]``` your program should determine that ```((49-40)/40)*100 = 22.5```, and would add 'SALT' to your list. Expected output is\n",
        "```\n",
        "['SALT', 'SB']\n",
        "```"
      ]
    },
    {
      "cell_type": "code",
      "execution_count": null,
      "metadata": {
        "colab": {
          "base_uri": "https://localhost:8080/"
        },
        "id": "YxSc3KbFtsvH",
        "outputId": "ae20c7d0-afb5-4ba9-851c-09ab73b119cc"
      },
      "outputs": [
        {
          "output_type": "stream",
          "name": "stdout",
          "text": [
            "[dict_keys(['TEUCF', 'BBLKF', 'NMM', 'SAIA', 'SALT', 'SB', 'TK', 'NM', 'ERA', 'TCNAF', 'URAL', 'BRSWQ', 'DPBE', 'TOPS', 'GNKWF', 'AIRTW', 'SHIPW'])]\n",
            "[<built-in method values of dict object at 0x7f3fc7d44820>]\n",
            "URAL\n",
            "[6352, 6171, 6053]\n",
            "AIRTW\n",
            "[-83, -82, -81]\n"
          ]
        }
      ],
      "source": [
        "se={\n",
        "    'TEUCF':[6352,6171,6053],\n",
        "    'BBLKF':[109,125,111],\n",
        "    'NMM':[52,50,57],\n",
        "    'SAIA':[52,53,50],\n",
        "    'SALT':[40,49,48],\n",
        "    'SB':[39,46,46],\n",
        "    'TK':[45,43,44],\n",
        "    'NM':[44,44,43],\n",
        "    'ERA':[43,42,43],\n",
        "    'TCNAF':[-83,-81,-83],\n",
        "    'URAL':[-83,-82,-81],\n",
        "    'BRSWQ':[-80,-81,-79],\n",
        "    'DPBE':[68,-70,67],\n",
        "    'TOPS':[-59,-59,-58],\n",
        "    'GNKWF':[-53,-52,-53],\n",
        "    'AIRTW':[-51,-49,-50],\n",
        "    'SHIPW':[-46,-40,-47]\n",
        "         }\n",
        "\n",
        "def stock_manipulations(d):\n",
        "\n",
        "    # a. Finding max and min\n",
        "        maxs=[]\n",
        "        mins=[]\n",
        "        keys=[d.keys()]\n",
        "        values=[d.values]\n",
        "        print(keys)\n",
        "        print(values)\n",
        "    # a.i. Maximum of each list\n",
        "        k = d.keys()\n",
        "        v = d.values()\n",
        "        print(max(k))\n",
        "        print(max(v))\n",
        "\n",
        "\n",
        "    # a.ii. Minimum of each list\n",
        "        print(min(k))\n",
        "        print(min(v))\n",
        "\n",
        "    # b. Percent difference\n",
        "\n",
        "#this is returning\n",
        "\n",
        "stock_manipulations(se)"
      ]
    }
  ],
  "metadata": {
    "colab": {
      "provenance": []
    },
    "kernelspec": {
      "display_name": "Python 3",
      "language": "python",
      "name": "python3"
    },
    "language_info": {
      "codemirror_mode": {
        "name": "ipython",
        "version": 3
      },
      "file_extension": ".py",
      "mimetype": "text/x-python",
      "name": "python",
      "nbconvert_exporter": "python",
      "pygments_lexer": "ipython3",
      "version": "3.7.1"
    }
  },
  "nbformat": 4,
  "nbformat_minor": 0
}